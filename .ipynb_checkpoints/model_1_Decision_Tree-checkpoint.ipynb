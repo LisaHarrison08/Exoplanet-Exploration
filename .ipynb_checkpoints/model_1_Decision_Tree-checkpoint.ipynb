{
 "cells": [
  {
   "cell_type": "markdown",
   "metadata": {},
   "source": [
    "### Model : Decision Tree"
   ]
  },
  {
   "cell_type": "code",
   "execution_count": null,
   "metadata": {},
   "outputs": [],
   "source": [
    "# Update sklearn to prevent version mismatches\n",
    "!pip install sklearn --upgrade"
   ]
  },
  {
   "cell_type": "code",
   "execution_count": null,
   "metadata": {},
   "outputs": [],
   "source": [
    "# install joblib. This will be used to save your model. \n",
    "# Restart your kernel after installing \n",
    "!pip install joblib"
   ]
  },
  {
   "cell_type": "code",
   "execution_count": 1,
   "metadata": {},
   "outputs": [],
   "source": [
    "import pandas as pd"
   ]
  },
  {
   "cell_type": "markdown",
   "metadata": {},
   "source": [
    "# Read the CSV and Perform Basic Data Cleaning"
   ]
  },
  {
   "cell_type": "code",
   "execution_count": 2,
   "metadata": {},
   "outputs": [
    {
     "data": {
      "text/html": [
       "<div>\n",
       "<style scoped>\n",
       "    .dataframe tbody tr th:only-of-type {\n",
       "        vertical-align: middle;\n",
       "    }\n",
       "\n",
       "    .dataframe tbody tr th {\n",
       "        vertical-align: top;\n",
       "    }\n",
       "\n",
       "    .dataframe thead th {\n",
       "        text-align: right;\n",
       "    }\n",
       "</style>\n",
       "<table border=\"1\" class=\"dataframe\">\n",
       "  <thead>\n",
       "    <tr style=\"text-align: right;\">\n",
       "      <th></th>\n",
       "      <th>koi_disposition</th>\n",
       "      <th>koi_fpflag_nt</th>\n",
       "      <th>koi_fpflag_ss</th>\n",
       "      <th>koi_fpflag_co</th>\n",
       "      <th>koi_fpflag_ec</th>\n",
       "      <th>koi_period</th>\n",
       "      <th>koi_period_err1</th>\n",
       "      <th>koi_period_err2</th>\n",
       "      <th>koi_time0bk</th>\n",
       "      <th>koi_time0bk_err1</th>\n",
       "      <th>...</th>\n",
       "      <th>koi_steff_err2</th>\n",
       "      <th>koi_slogg</th>\n",
       "      <th>koi_slogg_err1</th>\n",
       "      <th>koi_slogg_err2</th>\n",
       "      <th>koi_srad</th>\n",
       "      <th>koi_srad_err1</th>\n",
       "      <th>koi_srad_err2</th>\n",
       "      <th>ra</th>\n",
       "      <th>dec</th>\n",
       "      <th>koi_kepmag</th>\n",
       "    </tr>\n",
       "  </thead>\n",
       "  <tbody>\n",
       "    <tr>\n",
       "      <th>0</th>\n",
       "      <td>CONFIRMED</td>\n",
       "      <td>0</td>\n",
       "      <td>0</td>\n",
       "      <td>0</td>\n",
       "      <td>0</td>\n",
       "      <td>54.418383</td>\n",
       "      <td>2.479000e-04</td>\n",
       "      <td>-2.479000e-04</td>\n",
       "      <td>162.513840</td>\n",
       "      <td>0.003520</td>\n",
       "      <td>...</td>\n",
       "      <td>-81</td>\n",
       "      <td>4.467</td>\n",
       "      <td>0.064</td>\n",
       "      <td>-0.096</td>\n",
       "      <td>0.927</td>\n",
       "      <td>0.105</td>\n",
       "      <td>-0.061</td>\n",
       "      <td>291.93423</td>\n",
       "      <td>48.141651</td>\n",
       "      <td>15.347</td>\n",
       "    </tr>\n",
       "    <tr>\n",
       "      <th>1</th>\n",
       "      <td>FALSE POSITIVE</td>\n",
       "      <td>0</td>\n",
       "      <td>1</td>\n",
       "      <td>0</td>\n",
       "      <td>0</td>\n",
       "      <td>19.899140</td>\n",
       "      <td>1.490000e-05</td>\n",
       "      <td>-1.490000e-05</td>\n",
       "      <td>175.850252</td>\n",
       "      <td>0.000581</td>\n",
       "      <td>...</td>\n",
       "      <td>-176</td>\n",
       "      <td>4.544</td>\n",
       "      <td>0.044</td>\n",
       "      <td>-0.176</td>\n",
       "      <td>0.868</td>\n",
       "      <td>0.233</td>\n",
       "      <td>-0.078</td>\n",
       "      <td>297.00482</td>\n",
       "      <td>48.134129</td>\n",
       "      <td>15.436</td>\n",
       "    </tr>\n",
       "    <tr>\n",
       "      <th>2</th>\n",
       "      <td>FALSE POSITIVE</td>\n",
       "      <td>0</td>\n",
       "      <td>1</td>\n",
       "      <td>0</td>\n",
       "      <td>0</td>\n",
       "      <td>1.736952</td>\n",
       "      <td>2.630000e-07</td>\n",
       "      <td>-2.630000e-07</td>\n",
       "      <td>170.307565</td>\n",
       "      <td>0.000115</td>\n",
       "      <td>...</td>\n",
       "      <td>-174</td>\n",
       "      <td>4.564</td>\n",
       "      <td>0.053</td>\n",
       "      <td>-0.168</td>\n",
       "      <td>0.791</td>\n",
       "      <td>0.201</td>\n",
       "      <td>-0.067</td>\n",
       "      <td>285.53461</td>\n",
       "      <td>48.285210</td>\n",
       "      <td>15.597</td>\n",
       "    </tr>\n",
       "    <tr>\n",
       "      <th>3</th>\n",
       "      <td>CONFIRMED</td>\n",
       "      <td>0</td>\n",
       "      <td>0</td>\n",
       "      <td>0</td>\n",
       "      <td>0</td>\n",
       "      <td>2.525592</td>\n",
       "      <td>3.760000e-06</td>\n",
       "      <td>-3.760000e-06</td>\n",
       "      <td>171.595550</td>\n",
       "      <td>0.001130</td>\n",
       "      <td>...</td>\n",
       "      <td>-211</td>\n",
       "      <td>4.438</td>\n",
       "      <td>0.070</td>\n",
       "      <td>-0.210</td>\n",
       "      <td>1.046</td>\n",
       "      <td>0.334</td>\n",
       "      <td>-0.133</td>\n",
       "      <td>288.75488</td>\n",
       "      <td>48.226200</td>\n",
       "      <td>15.509</td>\n",
       "    </tr>\n",
       "    <tr>\n",
       "      <th>4</th>\n",
       "      <td>CONFIRMED</td>\n",
       "      <td>0</td>\n",
       "      <td>0</td>\n",
       "      <td>0</td>\n",
       "      <td>0</td>\n",
       "      <td>4.134435</td>\n",
       "      <td>1.050000e-05</td>\n",
       "      <td>-1.050000e-05</td>\n",
       "      <td>172.979370</td>\n",
       "      <td>0.001900</td>\n",
       "      <td>...</td>\n",
       "      <td>-232</td>\n",
       "      <td>4.486</td>\n",
       "      <td>0.054</td>\n",
       "      <td>-0.229</td>\n",
       "      <td>0.972</td>\n",
       "      <td>0.315</td>\n",
       "      <td>-0.105</td>\n",
       "      <td>296.28613</td>\n",
       "      <td>48.224670</td>\n",
       "      <td>15.714</td>\n",
       "    </tr>\n",
       "  </tbody>\n",
       "</table>\n",
       "<p>5 rows × 41 columns</p>\n",
       "</div>"
      ],
      "text/plain": [
       "  koi_disposition  koi_fpflag_nt  koi_fpflag_ss  koi_fpflag_co  koi_fpflag_ec  \\\n",
       "0       CONFIRMED              0              0              0              0   \n",
       "1  FALSE POSITIVE              0              1              0              0   \n",
       "2  FALSE POSITIVE              0              1              0              0   \n",
       "3       CONFIRMED              0              0              0              0   \n",
       "4       CONFIRMED              0              0              0              0   \n",
       "\n",
       "   koi_period  koi_period_err1  koi_period_err2  koi_time0bk  \\\n",
       "0   54.418383     2.479000e-04    -2.479000e-04   162.513840   \n",
       "1   19.899140     1.490000e-05    -1.490000e-05   175.850252   \n",
       "2    1.736952     2.630000e-07    -2.630000e-07   170.307565   \n",
       "3    2.525592     3.760000e-06    -3.760000e-06   171.595550   \n",
       "4    4.134435     1.050000e-05    -1.050000e-05   172.979370   \n",
       "\n",
       "   koi_time0bk_err1  ...  koi_steff_err2  koi_slogg  koi_slogg_err1  \\\n",
       "0          0.003520  ...             -81      4.467           0.064   \n",
       "1          0.000581  ...            -176      4.544           0.044   \n",
       "2          0.000115  ...            -174      4.564           0.053   \n",
       "3          0.001130  ...            -211      4.438           0.070   \n",
       "4          0.001900  ...            -232      4.486           0.054   \n",
       "\n",
       "   koi_slogg_err2  koi_srad  koi_srad_err1  koi_srad_err2         ra  \\\n",
       "0          -0.096     0.927          0.105         -0.061  291.93423   \n",
       "1          -0.176     0.868          0.233         -0.078  297.00482   \n",
       "2          -0.168     0.791          0.201         -0.067  285.53461   \n",
       "3          -0.210     1.046          0.334         -0.133  288.75488   \n",
       "4          -0.229     0.972          0.315         -0.105  296.28613   \n",
       "\n",
       "         dec  koi_kepmag  \n",
       "0  48.141651      15.347  \n",
       "1  48.134129      15.436  \n",
       "2  48.285210      15.597  \n",
       "3  48.226200      15.509  \n",
       "4  48.224670      15.714  \n",
       "\n",
       "[5 rows x 41 columns]"
      ]
     },
     "execution_count": 2,
     "metadata": {},
     "output_type": "execute_result"
    }
   ],
   "source": [
    "df = pd.read_csv(\"exoplanet_data.csv\")\n",
    "# Drop the null columns where all values are null\n",
    "df = df.dropna(axis='columns', how='all')\n",
    "# Drop the null rows\n",
    "df = df.dropna()\n",
    "df.head()"
   ]
  },
  {
   "cell_type": "markdown",
   "metadata": {},
   "source": [
    "# Select your features (columns)"
   ]
  },
  {
   "cell_type": "code",
   "execution_count": 3,
   "metadata": {},
   "outputs": [],
   "source": [
    "# Set features. This will also be used as your x values.\n",
    "X = df.drop(columns='koi_disposition')"
   ]
  },
  {
   "cell_type": "markdown",
   "metadata": {},
   "source": [
    "# Create a Train Test Split\n",
    "\n",
    "Use `koi_disposition` for the y values"
   ]
  },
  {
   "cell_type": "code",
   "execution_count": 4,
   "metadata": {},
   "outputs": [],
   "source": [
    "y = df.koi_disposition"
   ]
  },
  {
   "cell_type": "code",
   "execution_count": 5,
   "metadata": {},
   "outputs": [],
   "source": [
    "from sklearn.model_selection import train_test_split\n",
    "X_train, X_test, y_train, y_test = train_test_split(X,y)"
   ]
  },
  {
   "cell_type": "code",
   "execution_count": 6,
   "metadata": {},
   "outputs": [
    {
     "data": {
      "text/html": [
       "<div>\n",
       "<style scoped>\n",
       "    .dataframe tbody tr th:only-of-type {\n",
       "        vertical-align: middle;\n",
       "    }\n",
       "\n",
       "    .dataframe tbody tr th {\n",
       "        vertical-align: top;\n",
       "    }\n",
       "\n",
       "    .dataframe thead th {\n",
       "        text-align: right;\n",
       "    }\n",
       "</style>\n",
       "<table border=\"1\" class=\"dataframe\">\n",
       "  <thead>\n",
       "    <tr style=\"text-align: right;\">\n",
       "      <th></th>\n",
       "      <th>koi_fpflag_nt</th>\n",
       "      <th>koi_fpflag_ss</th>\n",
       "      <th>koi_fpflag_co</th>\n",
       "      <th>koi_fpflag_ec</th>\n",
       "      <th>koi_period</th>\n",
       "      <th>koi_period_err1</th>\n",
       "      <th>koi_period_err2</th>\n",
       "      <th>koi_time0bk</th>\n",
       "      <th>koi_time0bk_err1</th>\n",
       "      <th>koi_time0bk_err2</th>\n",
       "      <th>...</th>\n",
       "      <th>koi_steff_err2</th>\n",
       "      <th>koi_slogg</th>\n",
       "      <th>koi_slogg_err1</th>\n",
       "      <th>koi_slogg_err2</th>\n",
       "      <th>koi_srad</th>\n",
       "      <th>koi_srad_err1</th>\n",
       "      <th>koi_srad_err2</th>\n",
       "      <th>ra</th>\n",
       "      <th>dec</th>\n",
       "      <th>koi_kepmag</th>\n",
       "    </tr>\n",
       "  </thead>\n",
       "  <tbody>\n",
       "    <tr>\n",
       "      <th>4452</th>\n",
       "      <td>0</td>\n",
       "      <td>0</td>\n",
       "      <td>0</td>\n",
       "      <td>0</td>\n",
       "      <td>215.634356</td>\n",
       "      <td>0.009791</td>\n",
       "      <td>-0.009791</td>\n",
       "      <td>230.72110</td>\n",
       "      <td>0.04040</td>\n",
       "      <td>-0.04040</td>\n",
       "      <td>...</td>\n",
       "      <td>-219</td>\n",
       "      <td>4.060</td>\n",
       "      <td>0.350</td>\n",
       "      <td>-0.150</td>\n",
       "      <td>1.568</td>\n",
       "      <td>0.388</td>\n",
       "      <td>-0.582</td>\n",
       "      <td>298.95654</td>\n",
       "      <td>42.156315</td>\n",
       "      <td>13.793</td>\n",
       "    </tr>\n",
       "    <tr>\n",
       "      <th>1098</th>\n",
       "      <td>0</td>\n",
       "      <td>0</td>\n",
       "      <td>0</td>\n",
       "      <td>0</td>\n",
       "      <td>39.313570</td>\n",
       "      <td>0.000148</td>\n",
       "      <td>-0.000148</td>\n",
       "      <td>154.93767</td>\n",
       "      <td>0.00315</td>\n",
       "      <td>-0.00315</td>\n",
       "      <td>...</td>\n",
       "      <td>-181</td>\n",
       "      <td>4.509</td>\n",
       "      <td>0.048</td>\n",
       "      <td>-0.192</td>\n",
       "      <td>0.925</td>\n",
       "      <td>0.262</td>\n",
       "      <td>-0.087</td>\n",
       "      <td>289.06433</td>\n",
       "      <td>47.117420</td>\n",
       "      <td>14.476</td>\n",
       "    </tr>\n",
       "    <tr>\n",
       "      <th>462</th>\n",
       "      <td>0</td>\n",
       "      <td>0</td>\n",
       "      <td>0</td>\n",
       "      <td>0</td>\n",
       "      <td>158.685002</td>\n",
       "      <td>0.000466</td>\n",
       "      <td>-0.000466</td>\n",
       "      <td>173.94993</td>\n",
       "      <td>0.00207</td>\n",
       "      <td>-0.00207</td>\n",
       "      <td>...</td>\n",
       "      <td>-103</td>\n",
       "      <td>4.340</td>\n",
       "      <td>0.156</td>\n",
       "      <td>-0.104</td>\n",
       "      <td>1.034</td>\n",
       "      <td>0.149</td>\n",
       "      <td>-0.164</td>\n",
       "      <td>288.86823</td>\n",
       "      <td>47.759430</td>\n",
       "      <td>12.783</td>\n",
       "    </tr>\n",
       "    <tr>\n",
       "      <th>5340</th>\n",
       "      <td>0</td>\n",
       "      <td>0</td>\n",
       "      <td>0</td>\n",
       "      <td>0</td>\n",
       "      <td>5.522479</td>\n",
       "      <td>0.000066</td>\n",
       "      <td>-0.000066</td>\n",
       "      <td>133.11840</td>\n",
       "      <td>0.01110</td>\n",
       "      <td>-0.01110</td>\n",
       "      <td>...</td>\n",
       "      <td>-201</td>\n",
       "      <td>4.271</td>\n",
       "      <td>0.135</td>\n",
       "      <td>-0.135</td>\n",
       "      <td>1.247</td>\n",
       "      <td>0.571</td>\n",
       "      <td>-0.207</td>\n",
       "      <td>288.52902</td>\n",
       "      <td>42.276260</td>\n",
       "      <td>13.050</td>\n",
       "    </tr>\n",
       "    <tr>\n",
       "      <th>1478</th>\n",
       "      <td>0</td>\n",
       "      <td>0</td>\n",
       "      <td>0</td>\n",
       "      <td>0</td>\n",
       "      <td>9.991152</td>\n",
       "      <td>0.000059</td>\n",
       "      <td>-0.000059</td>\n",
       "      <td>134.39335</td>\n",
       "      <td>0.00451</td>\n",
       "      <td>-0.00451</td>\n",
       "      <td>...</td>\n",
       "      <td>-77</td>\n",
       "      <td>4.524</td>\n",
       "      <td>0.063</td>\n",
       "      <td>-0.018</td>\n",
       "      <td>0.796</td>\n",
       "      <td>0.027</td>\n",
       "      <td>-0.054</td>\n",
       "      <td>285.17334</td>\n",
       "      <td>48.770039</td>\n",
       "      <td>15.311</td>\n",
       "    </tr>\n",
       "  </tbody>\n",
       "</table>\n",
       "<p>5 rows × 40 columns</p>\n",
       "</div>"
      ],
      "text/plain": [
       "      koi_fpflag_nt  koi_fpflag_ss  koi_fpflag_co  koi_fpflag_ec  koi_period  \\\n",
       "4452              0              0              0              0  215.634356   \n",
       "1098              0              0              0              0   39.313570   \n",
       "462               0              0              0              0  158.685002   \n",
       "5340              0              0              0              0    5.522479   \n",
       "1478              0              0              0              0    9.991152   \n",
       "\n",
       "      koi_period_err1  koi_period_err2  koi_time0bk  koi_time0bk_err1  \\\n",
       "4452         0.009791        -0.009791    230.72110           0.04040   \n",
       "1098         0.000148        -0.000148    154.93767           0.00315   \n",
       "462          0.000466        -0.000466    173.94993           0.00207   \n",
       "5340         0.000066        -0.000066    133.11840           0.01110   \n",
       "1478         0.000059        -0.000059    134.39335           0.00451   \n",
       "\n",
       "      koi_time0bk_err2  ...  koi_steff_err2  koi_slogg  koi_slogg_err1  \\\n",
       "4452          -0.04040  ...            -219      4.060           0.350   \n",
       "1098          -0.00315  ...            -181      4.509           0.048   \n",
       "462           -0.00207  ...            -103      4.340           0.156   \n",
       "5340          -0.01110  ...            -201      4.271           0.135   \n",
       "1478          -0.00451  ...             -77      4.524           0.063   \n",
       "\n",
       "      koi_slogg_err2  koi_srad  koi_srad_err1  koi_srad_err2         ra  \\\n",
       "4452          -0.150     1.568          0.388         -0.582  298.95654   \n",
       "1098          -0.192     0.925          0.262         -0.087  289.06433   \n",
       "462           -0.104     1.034          0.149         -0.164  288.86823   \n",
       "5340          -0.135     1.247          0.571         -0.207  288.52902   \n",
       "1478          -0.018     0.796          0.027         -0.054  285.17334   \n",
       "\n",
       "            dec  koi_kepmag  \n",
       "4452  42.156315      13.793  \n",
       "1098  47.117420      14.476  \n",
       "462   47.759430      12.783  \n",
       "5340  42.276260      13.050  \n",
       "1478  48.770039      15.311  \n",
       "\n",
       "[5 rows x 40 columns]"
      ]
     },
     "execution_count": 6,
     "metadata": {},
     "output_type": "execute_result"
    }
   ],
   "source": [
    "X_train.head()"
   ]
  },
  {
   "cell_type": "markdown",
   "metadata": {},
   "source": [
    "# Pre-processing\n",
    "\n",
    "Scale the data using the MinMaxScaler and perform some feature selection"
   ]
  },
  {
   "cell_type": "code",
   "execution_count": 7,
   "metadata": {},
   "outputs": [],
   "source": [
    "# Scale your data\n",
    "from sklearn.preprocessing import MinMaxScaler\n",
    "scaler = MinMaxScaler()\n",
    "scaler.fit(X_train)\n",
    "X_train_scaled = scaler.transform(X_train)\n",
    "\n",
    "X_test_scaled = scaler.transform(X_test)"
   ]
  },
  {
   "cell_type": "markdown",
   "metadata": {},
   "source": [
    "# Train the Model\n",
    "\n"
   ]
  },
  {
   "cell_type": "code",
   "execution_count": 8,
   "metadata": {},
   "outputs": [
    {
     "name": "stdout",
     "output_type": "stream",
     "text": [
      "Training Data Score: 1.0\n",
      "Testing Data Score: 0.8598398169336384\n"
     ]
    }
   ],
   "source": [
    "from sklearn import tree\n",
    "\n",
    "clf = tree.DecisionTreeClassifier()\n",
    "clf = clf.fit(X_train_scaled, y_train)\n",
    "\n",
    "print(f\"Training Data Score: {clf.score(X_train_scaled, y_train)}\")\n",
    "print(f\"Testing Data Score: {clf.score(X_test_scaled, y_test)}\")"
   ]
  },
  {
   "cell_type": "code",
   "execution_count": 9,
   "metadata": {},
   "outputs": [
    {
     "data": {
      "text/plain": [
       "array(['koi_fpflag_nt', 'koi_fpflag_ss', 'koi_fpflag_co', 'koi_fpflag_ec',\n",
       "       'koi_period', 'koi_period_err1', 'koi_period_err2', 'koi_time0bk',\n",
       "       'koi_time0bk_err1', 'koi_time0bk_err2', 'koi_impact',\n",
       "       'koi_impact_err1', 'koi_impact_err2', 'koi_duration',\n",
       "       'koi_duration_err1', 'koi_duration_err2', 'koi_depth',\n",
       "       'koi_depth_err1', 'koi_depth_err2', 'koi_prad', 'koi_prad_err1',\n",
       "       'koi_prad_err2', 'koi_teq', 'koi_insol', 'koi_insol_err1',\n",
       "       'koi_insol_err2', 'koi_model_snr', 'koi_tce_plnt_num', 'koi_steff',\n",
       "       'koi_steff_err1', 'koi_steff_err2', 'koi_slogg', 'koi_slogg_err1',\n",
       "       'koi_slogg_err2', 'koi_srad', 'koi_srad_err1', 'koi_srad_err2',\n",
       "       'ra', 'dec', 'koi_kepmag'], dtype=object)"
      ]
     },
     "execution_count": 9,
     "metadata": {},
     "output_type": "execute_result"
    }
   ],
   "source": [
    "X.columns.values"
   ]
  },
  {
   "cell_type": "code",
   "execution_count": 10,
   "metadata": {},
   "outputs": [
    {
     "data": {
      "text/plain": [
       "array([0.190714  , 0.17408153, 0.18231666, 0.0316439 , 0.0184075 ,\n",
       "       0.00387954, 0.00490828, 0.01164121, 0.0040326 , 0.00379368,\n",
       "       0.03370654, 0.00463285, 0.00992082, 0.01814397, 0.01020833,\n",
       "       0.0058467 , 0.00896329, 0.00518823, 0.00276319, 0.00784425,\n",
       "       0.00836882, 0.00184201, 0.00514386, 0.00194924, 0.00385389,\n",
       "       0.00120873, 0.14378741, 0.00712105, 0.00922539, 0.01065532,\n",
       "       0.0133365 , 0.00196994, 0.00695972, 0.00829249, 0.00680386,\n",
       "       0.00556495, 0.00541305, 0.01015094, 0.0107355 , 0.00498025])"
      ]
     },
     "execution_count": 10,
     "metadata": {},
     "output_type": "execute_result"
    }
   ],
   "source": [
    "clf.feature_importances_"
   ]
  },
  {
   "cell_type": "code",
   "execution_count": 11,
   "metadata": {},
   "outputs": [
    {
     "data": {
      "text/plain": [
       "[(0.19071399841196032, 'koi_fpflag_nt'),\n",
       " (0.1823166648816742, 'koi_fpflag_co'),\n",
       " (0.17408152673933383, 'koi_fpflag_ss'),\n",
       " (0.14378741044634866, 'koi_model_snr'),\n",
       " (0.03370653759728057, 'koi_impact'),\n",
       " (0.031643899638216906, 'koi_fpflag_ec'),\n",
       " (0.0184074990243229, 'koi_period'),\n",
       " (0.018143974143458783, 'koi_duration'),\n",
       " (0.013336496897950948, 'koi_steff_err2'),\n",
       " (0.011641213651199838, 'koi_time0bk'),\n",
       " (0.010735501227361374, 'dec'),\n",
       " (0.01065532469801553, 'koi_steff_err1'),\n",
       " (0.010208334822306982, 'koi_duration_err1'),\n",
       " (0.010150937557667414, 'ra'),\n",
       " (0.009920816427442655, 'koi_impact_err2'),\n",
       " (0.009225389886609701, 'koi_steff'),\n",
       " (0.008963292628081827, 'koi_depth'),\n",
       " (0.008368823053061915, 'koi_prad_err1'),\n",
       " (0.008292489216413866, 'koi_slogg_err2'),\n",
       " (0.007844246686195598, 'koi_prad'),\n",
       " (0.007121048908251835, 'koi_tce_plnt_num'),\n",
       " (0.006959720102110832, 'koi_slogg_err1'),\n",
       " (0.006803857813948082, 'koi_srad'),\n",
       " (0.005846700301048259, 'koi_duration_err2'),\n",
       " (0.005564950526169678, 'koi_srad_err1'),\n",
       " (0.005413051961257642, 'koi_srad_err2'),\n",
       " (0.005188225567627132, 'koi_depth_err1'),\n",
       " (0.005143861364187157, 'koi_teq'),\n",
       " (0.004980245390482212, 'koi_kepmag'),\n",
       " (0.004908281940036626, 'koi_period_err2'),\n",
       " (0.004632854449829976, 'koi_impact_err1'),\n",
       " (0.004032603243483318, 'koi_time0bk_err1'),\n",
       " (0.003879539540976589, 'koi_period_err1'),\n",
       " (0.003853889154979398, 'koi_insol_err1'),\n",
       " (0.003793682921002821, 'koi_time0bk_err2'),\n",
       " (0.0027631860804797495, 'koi_depth_err2'),\n",
       " (0.0019699445043188366, 'koi_slogg'),\n",
       " (0.0019492362406068003, 'koi_insol'),\n",
       " (0.0018420118971206262, 'koi_prad_err2'),\n",
       " (0.0012087304571786592, 'koi_insol_err2')]"
      ]
     },
     "execution_count": 11,
     "metadata": {},
     "output_type": "execute_result"
    }
   ],
   "source": [
    "ranked_features = sorted(zip(clf.feature_importances_, X.columns.values), reverse=True)\n",
    "ranked_features"
   ]
  },
  {
   "cell_type": "code",
   "execution_count": 12,
   "metadata": {},
   "outputs": [
    {
     "name": "stdout",
     "output_type": "stream",
     "text": [
      "                precision    recall  f1-score   support\n",
      "\n",
      "     CANDIDATE       0.19      0.71      0.30       107\n",
      "     CONFIRMED       0.93      0.42      0.57      1044\n",
      "FALSE POSITIVE       0.67      0.98      0.79       597\n",
      "\n",
      "      accuracy                           0.63      1748\n",
      "     macro avg       0.60      0.70      0.56      1748\n",
      "  weighted avg       0.79      0.63      0.63      1748\n",
      "\n"
     ]
    }
   ],
   "source": [
    "from sklearn.metrics import classification_report\n",
    "print(classification_report(clf.predict(X_test), y_test))"
   ]
  },
  {
   "cell_type": "markdown",
   "metadata": {},
   "source": [
    "# Save the Model"
   ]
  },
  {
   "cell_type": "code",
   "execution_count": 13,
   "metadata": {},
   "outputs": [
    {
     "data": {
      "text/plain": [
       "['decision_tree.sav']"
      ]
     },
     "execution_count": 13,
     "metadata": {},
     "output_type": "execute_result"
    }
   ],
   "source": [
    "# save your model by updating \"your_name\" with your name\n",
    "# and \"your_model\" with your model variable\n",
    "# be sure to turn this in to BCS\n",
    "# if joblib fails to import, try running the command to install in terminal/git-bash\n",
    "import joblib\n",
    "filename = 'decision_tree.sav'\n",
    "joblib.dump(clf, filename)"
   ]
  }
 ],
 "metadata": {
  "kernel_info": {
   "name": "dev"
  },
  "kernelspec": {
   "display_name": "Python [conda env:PythonAdv] *",
   "language": "python",
   "name": "conda-env-PythonAdv-py"
  },
  "language_info": {
   "codemirror_mode": {
    "name": "ipython",
    "version": 3
   },
   "file_extension": ".py",
   "mimetype": "text/x-python",
   "name": "python",
   "nbconvert_exporter": "python",
   "pygments_lexer": "ipython3",
   "version": "3.7.9"
  },
  "nteract": {
   "version": "0.12.3"
  }
 },
 "nbformat": 4,
 "nbformat_minor": 2
}
